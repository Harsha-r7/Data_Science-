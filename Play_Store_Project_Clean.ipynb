{
 "cells": [
  {
   "cell_type": "code",
   "execution_count": 5,
   "id": "0d3434cc",
   "metadata": {
    "id": "YRzQpeA1LwnO"
   },
   "outputs": [],
   "source": [
    "import pandas as pd\n",
    "import numpy as np\n",
    "import matplotlib.pyplot as plt\n",
    "from datetime import datetime\n",
    "import seaborn as sns"
   ]
  },
  {
   "cell_type": "code",
   "execution_count": 6,
   "id": "8aced197",
   "metadata": {
    "colab": {
     "base_uri": "https://localhost:8080/"
    },
    "id": "TjH441FoJdrP",
    "outputId": "e5724bc3-809f-4ba4-a75d-3bb19b475871"
   },
   "outputs": [
    {
     "ename": "ModuleNotFoundError",
     "evalue": "No module named 'google.colab'",
     "output_type": "error",
     "traceback": [
      "\u001b[1;31m---------------------------------------------------------------------------\u001b[0m",
      "\u001b[1;31mModuleNotFoundError\u001b[0m                       Traceback (most recent call last)",
      "Cell \u001b[1;32mIn[6], line 1\u001b[0m\n\u001b[1;32m----> 1\u001b[0m \u001b[38;5;28;01mfrom\u001b[39;00m \u001b[38;5;21;01mgoogle\u001b[39;00m\u001b[38;5;21;01m.\u001b[39;00m\u001b[38;5;21;01mcolab\u001b[39;00m \u001b[38;5;28;01mimport\u001b[39;00m drive\n\u001b[0;32m      2\u001b[0m drive\u001b[38;5;241m.\u001b[39mmount(\u001b[38;5;124m'\u001b[39m\u001b[38;5;124m/content/drive/\u001b[39m\u001b[38;5;124m'\u001b[39m)\n",
      "\u001b[1;31mModuleNotFoundError\u001b[0m: No module named 'google.colab'"
     ]
    }
   ],
   "source": [
    "from google.colab import drive\n",
    "drive.mount('/content/drive/')\n",
    "\n"
   ]
  },
  {
   "cell_type": "code",
   "execution_count": null,
   "id": "24b323de",
   "metadata": {
    "id": "kKAY0WAaKTF-"
   },
   "outputs": [],
   "source": [
    "df = pd.read_csv('drive/MyDrive/Play Store Data.csv')\n",
    "\n",
    "ad=pd.read_csv('drive/MyDrive/Play Store Data.csv')"
   ]
  },
  {
   "cell_type": "code",
   "execution_count": null,
   "id": "106255c3",
   "metadata": {
    "colab": {
     "base_uri": "https://localhost:8080/",
     "height": 424
    },
    "id": "yZuhgxPKGdK2",
    "outputId": "1fdea1ed-63e3-4644-f05e-fd65affa7c1b"
   },
   "outputs": [],
   "source": [
    "df2= pd.read_csv('drive/MyDrive/User Reviews.csv')\n",
    "\n",
    "df2"
   ]
  },
  {
   "cell_type": "code",
   "execution_count": null,
   "id": "ef587790",
   "metadata": {
    "colab": {
     "base_uri": "https://localhost:8080/"
    },
    "id": "YMNkRXbNH_gI",
    "outputId": "609abc73-828e-4514-e4fd-26c2fd1adf20"
   },
   "outputs": [],
   "source": [
    "df.info()"
   ]
  },
  {
   "cell_type": "code",
   "execution_count": null,
   "id": "7b5c4ea0",
   "metadata": {
    "colab": {
     "base_uri": "https://localhost:8080/",
     "height": 300
    },
    "id": "zfIBv_yWl1uq",
    "outputId": "2cbe018c-197a-4f8a-f155-152b35a5b137"
   },
   "outputs": [],
   "source": [
    "df.describe()"
   ]
  },
  {
   "cell_type": "code",
   "execution_count": null,
   "id": "906781f4",
   "metadata": {
    "colab": {
     "base_uri": "https://localhost:8080/"
    },
    "id": "HSH0v6s3l16y",
    "outputId": "da2d5d4a-ddef-4f01-edc3-3278b9794772"
   },
   "outputs": [],
   "source": [
    "df.isnull().sum()"
   ]
  },
  {
   "cell_type": "code",
   "execution_count": null,
   "id": "9fe772ff",
   "metadata": {
    "colab": {
     "base_uri": "https://localhost:8080/",
     "height": 337
    },
    "id": "b3NGhFeOSsYE",
    "outputId": "97b0eaa0-d99d-4ece-e7b0-1663d7d773ba"
   },
   "outputs": [],
   "source": [
    "df.head()"
   ]
  },
  {
   "cell_type": "code",
   "execution_count": null,
   "id": "bfe628b2",
   "metadata": {
    "colab": {
     "base_uri": "https://localhost:8080/",
     "height": 320
    },
    "id": "0jzbnfAlSzTM",
    "outputId": "5fc8e580-85bc-4fc2-dab2-3d27f8502167"
   },
   "outputs": [],
   "source": [
    "df.tail()"
   ]
  },
  {
   "cell_type": "code",
   "execution_count": null,
   "id": "8506bbc8",
   "metadata": {
    "colab": {
     "base_uri": "https://localhost:8080/"
    },
    "id": "l4prtFfnTBnU",
    "outputId": "1d0d275a-8a01-409d-c5d1-03d2e428a53e"
   },
   "outputs": [],
   "source": [
    "df2.info()"
   ]
  },
  {
   "cell_type": "code",
   "execution_count": null,
   "id": "6853f89b",
   "metadata": {
    "colab": {
     "base_uri": "https://localhost:8080/",
     "height": 300
    },
    "id": "QM3tnil_THr7",
    "outputId": "23b29fdf-2497-4788-a902-92582f17170f"
   },
   "outputs": [],
   "source": [
    "df2.describe()"
   ]
  },
  {
   "cell_type": "code",
   "execution_count": null,
   "id": "48da6f8f",
   "metadata": {
    "colab": {
     "base_uri": "https://localhost:8080/",
     "height": 206
    },
    "id": "FnE7y1IaTHxX",
    "outputId": "66e46ec4-238a-4304-bbaa-1a38da4b82df"
   },
   "outputs": [],
   "source": [
    "df2.head()"
   ]
  },
  {
   "cell_type": "code",
   "execution_count": null,
   "id": "7df59fa4",
   "metadata": {
    "colab": {
     "base_uri": "https://localhost:8080/",
     "height": 206
    },
    "id": "ubnLJlYRTOEl",
    "outputId": "45e36017-671a-4a16-dee8-7ed692dc1095"
   },
   "outputs": [],
   "source": [
    "df2.tail()"
   ]
  },
  {
   "cell_type": "code",
   "execution_count": null,
   "id": "8458f329",
   "metadata": {
    "colab": {
     "base_uri": "https://localhost:8080/"
    },
    "id": "0hz2IapIT3Vj",
    "outputId": "029a6a27-6e3b-4e4b-c88b-ff2e448134e0"
   },
   "outputs": [],
   "source": [
    "df['Reviews'].unique()"
   ]
  },
  {
   "cell_type": "code",
   "execution_count": null,
   "id": "4a37fc31",
   "metadata": {
    "id": "ro18tcZnT3fD"
   },
   "outputs": [],
   "source": [
    "df['Reviews'] = pd.to_numeric(df['Reviews'],errors='coerce')"
   ]
  },
  {
   "cell_type": "code",
   "execution_count": null,
   "id": "fa0374e8",
   "metadata": {
    "colab": {
     "base_uri": "https://localhost:8080/"
    },
    "id": "WnsBh1GfVXxc",
    "outputId": "984bd42e-012c-4baf-ab1a-1e5d9d809202"
   },
   "outputs": [],
   "source": [
    "df['Size'].unique()"
   ]
  },
  {
   "cell_type": "code",
   "execution_count": null,
   "id": "1b51ec10",
   "metadata": {
    "id": "xLVIhjWtVX02"
   },
   "outputs": [],
   "source": [
    "def fix_size(s):\n",
    "  try:\n",
    "    if s.endswith('M'):\n",
    "      return float(s[:-1])\n",
    "    elif s.endswith('k'):\n",
    "      return (float(s[:-1]) / 1024)\n",
    "    elif s == '1,000+':\n",
    "      return 1.0\n",
    "    else:\n",
    "      return np.nan\n",
    "  except:\n",
    "      return np.nan"
   ]
  },
  {
   "cell_type": "code",
   "execution_count": null,
   "id": "f7949170",
   "metadata": {
    "colab": {
     "base_uri": "https://localhost:8080/"
    },
    "id": "wfjqlX1FV4Qt",
    "outputId": "7ee9bb59-494b-4cf6-ce9d-16a3a7f68ba6"
   },
   "outputs": [],
   "source": [
    "fix_size('98M')"
   ]
  },
  {
   "cell_type": "code",
   "execution_count": null,
   "id": "7bd0d20b",
   "metadata": {
    "colab": {
     "base_uri": "https://localhost:8080/"
    },
    "id": "yO3jHFusXs3C",
    "outputId": "6b991841-7f85-4287-cd4c-fbd026067942"
   },
   "outputs": [],
   "source": [
    "fix_size('45k')"
   ]
  },
  {
   "cell_type": "code",
   "execution_count": null,
   "id": "cacb6549",
   "metadata": {
    "colab": {
     "base_uri": "https://localhost:8080/"
    },
    "id": "7I71qOPTXtDB",
    "outputId": "3c25b813-57f1-4125-ca27-1e7fa356a351"
   },
   "outputs": [],
   "source": [
    "fix_size('demo')"
   ]
  },
  {
   "cell_type": "code",
   "execution_count": null,
   "id": "70baf10d",
   "metadata": {
    "id": "j7_fIpuvWYMU"
   },
   "outputs": [],
   "source": [
    "df['Size']= df['Size'].apply(fix_size)"
   ]
  },
  {
   "cell_type": "code",
   "execution_count": null,
   "id": "48ec3ee8",
   "metadata": {
    "colab": {
     "base_uri": "https://localhost:8080/"
    },
    "id": "Lj3oO37ZWb1z",
    "outputId": "8f351230-6aed-49fb-ad78-e9b1d7f2995d"
   },
   "outputs": [],
   "source": [
    "df['Size'].unique()"
   ]
  },
  {
   "cell_type": "code",
   "execution_count": null,
   "id": "521b17d6",
   "metadata": {
    "colab": {
     "base_uri": "https://localhost:8080/"
    },
    "id": "eDrx_TPNWjY8",
    "outputId": "4e3b4a83-69ac-4435-8493-c29a9de8ded9"
   },
   "outputs": [],
   "source": [
    "df.info()"
   ]
  },
  {
   "cell_type": "code",
   "execution_count": null,
   "id": "9a0fb808",
   "metadata": {
    "colab": {
     "base_uri": "https://localhost:8080/"
    },
    "id": "LG6L_BqSWnvj",
    "outputId": "b5de3620-2f24-4a20-9335-16a5c1a00901"
   },
   "outputs": [],
   "source": [
    "df['Price'].unique()"
   ]
  },
  {
   "cell_type": "code",
   "execution_count": null,
   "id": "cac59fda",
   "metadata": {
    "id": "j0g4wVUxWrJz"
   },
   "outputs": [],
   "source": [
    "def fix_Price(A):\n",
    "  try:\n",
    "    if A.startswith('$'):\n",
    "      return float(A[1:])\n",
    "    else:\n",
    "      return 0.0\n",
    "  except:\n",
    "    return np.nan"
   ]
  },
  {
   "cell_type": "code",
   "execution_count": null,
   "id": "ac90ab11",
   "metadata": {
    "id": "bX5SBFyOa2t8"
   },
   "outputs": [],
   "source": [
    "df['Price']=ad['Price']"
   ]
  },
  {
   "cell_type": "code",
   "execution_count": null,
   "id": "b4f10001",
   "metadata": {
    "colab": {
     "base_uri": "https://localhost:8080/"
    },
    "id": "1UWyFWBScoBj",
    "outputId": "d0fe961a-e72b-4d56-afd5-3fa007dad8eb"
   },
   "outputs": [],
   "source": [
    "df.info()"
   ]
  },
  {
   "cell_type": "code",
   "execution_count": null,
   "id": "f58e14ee",
   "metadata": {
    "colab": {
     "base_uri": "https://localhost:8080/"
    },
    "id": "QM32OFv6BNGh",
    "outputId": "ac6ea26c-32fe-4207-9381-eb9402c26b9b"
   },
   "outputs": [],
   "source": [
    "fix_Price('Everyone')"
   ]
  },
  {
   "cell_type": "code",
   "execution_count": null,
   "id": "82804c81",
   "metadata": {
    "id": "yuWO26jkW3_z"
   },
   "outputs": [],
   "source": [
    "df['Price']=df['Price'].apply(fix_Price)"
   ]
  },
  {
   "cell_type": "code",
   "execution_count": null,
   "id": "21416374",
   "metadata": {
    "colab": {
     "base_uri": "https://localhost:8080/"
    },
    "id": "_1hxSRb8Yc_4",
    "outputId": "75389ab3-1d5c-49aa-e62b-37f1644e9700"
   },
   "outputs": [],
   "source": [
    "df.info()"
   ]
  },
  {
   "cell_type": "code",
   "execution_count": null,
   "id": "60a3c9cf",
   "metadata": {
    "colab": {
     "base_uri": "https://localhost:8080/"
    },
    "id": "zvMOpqGWZIs0",
    "outputId": "1bfbd9eb-d0a1-4492-d2fd-85529a9d43ef"
   },
   "outputs": [],
   "source": [
    "df['Price'].unique()"
   ]
  },
  {
   "cell_type": "code",
   "execution_count": null,
   "id": "a626c675",
   "metadata": {
    "colab": {
     "base_uri": "https://localhost:8080/"
    },
    "id": "5bUSNrmYBapH",
    "outputId": "bc43f2ac-4984-434e-f730-d99b7b092d2b"
   },
   "outputs": [],
   "source": [
    "df['Rating'].unique()"
   ]
  },
  {
   "cell_type": "code",
   "execution_count": null,
   "id": "6faf74da",
   "metadata": {
    "colab": {
     "base_uri": "https://localhost:8080/"
    },
    "id": "SS3rve-naxqh",
    "outputId": "08452208-4346-45e4-fe10-ed80428c20b7"
   },
   "outputs": [],
   "source": [
    "fx = df[df['Rating']>5].index\n",
    "fx\n"
   ]
  },
  {
   "cell_type": "code",
   "execution_count": null,
   "id": "be8a6d97",
   "metadata": {
    "id": "tUuwCNYtnHat"
   },
   "outputs": [],
   "source": [
    "df.drop(fx,axis =0,inplace =True)"
   ]
  },
  {
   "cell_type": "code",
   "execution_count": null,
   "id": "78f477e0",
   "metadata": {
    "colab": {
     "base_uri": "https://localhost:8080/"
    },
    "id": "32Gn0h6_nOr7",
    "outputId": "e8cc96d9-1812-409b-cd68-c7e8daac80b2"
   },
   "outputs": [],
   "source": [
    "df.info()"
   ]
  },
  {
   "cell_type": "code",
   "execution_count": null,
   "id": "f35a9c1c",
   "metadata": {
    "colab": {
     "base_uri": "https://localhost:8080/"
    },
    "id": "-h-_IbwK7SDo",
    "outputId": "99912c58-89c9-46e8-92c6-c107f024a12d"
   },
   "outputs": [],
   "source": [
    "df['Category'].unique()"
   ]
  },
  {
   "cell_type": "code",
   "execution_count": null,
   "id": "193e12b3",
   "metadata": {
    "id": "y_6EuwWxnV7L"
   },
   "outputs": [],
   "source": [
    "def lower_category(B):\n",
    "  return B.title()"
   ]
  },
  {
   "cell_type": "code",
   "execution_count": null,
   "id": "c7092452",
   "metadata": {
    "colab": {
     "base_uri": "https://localhost:8080/",
     "height": 36
    },
    "id": "YaqRYmv1nZsp",
    "outputId": "78371dfb-6e6f-4b95-81b5-6d6f23cb30c5"
   },
   "outputs": [],
   "source": [
    "lower_category('AUTO_AND_VEHICLES')\n"
   ]
  },
  {
   "cell_type": "code",
   "execution_count": null,
   "id": "154493b8",
   "metadata": {
    "id": "B99Xm_7zBcPY"
   },
   "outputs": [],
   "source": [
    "df['Category'] =df['Category'].apply(lower_category)\n"
   ]
  },
  {
   "cell_type": "code",
   "execution_count": null,
   "id": "1de5de9f",
   "metadata": {
    "colab": {
     "base_uri": "https://localhost:8080/"
    },
    "id": "ICWhb_ubnihm",
    "outputId": "9e696056-4abc-42b1-ce63-2250702129ea"
   },
   "outputs": [],
   "source": [
    "df.info()"
   ]
  },
  {
   "cell_type": "code",
   "execution_count": null,
   "id": "3eb95aaf",
   "metadata": {
    "colab": {
     "base_uri": "https://localhost:8080/"
    },
    "id": "XtJ-VErnnolk",
    "outputId": "155e3eb6-1d6e-43e4-dd11-268744f53c6e"
   },
   "outputs": [],
   "source": [
    "df['Installs'].unique()"
   ]
  },
  {
   "cell_type": "code",
   "execution_count": null,
   "id": "7c2cf8a7",
   "metadata": {
    "colab": {
     "base_uri": "https://localhost:8080/"
    },
    "id": "LTIWwhUwB-Rh",
    "outputId": "d5402e17-7590-4459-c6ae-6067c97934b9"
   },
   "outputs": [],
   "source": [
    "df['Installs'] = df.Installs.str.replace(\",\",\"\")\n",
    "df['Installs'] = df.Installs.str.replace(\"+\",\"\")\n",
    "df['Installs'] = df['Installs'].astype(float)\n",
    "df['Installs'].dtype"
   ]
  },
  {
   "cell_type": "code",
   "execution_count": null,
   "id": "262cb929",
   "metadata": {
    "colab": {
     "base_uri": "https://localhost:8080/"
    },
    "id": "aLvgybPuE5GD",
    "outputId": "c5064ea8-789a-4c36-a75f-72601c90d90d"
   },
   "outputs": [],
   "source": [
    "df['Installs'].unique()"
   ]
  },
  {
   "cell_type": "code",
   "execution_count": null,
   "id": "02bc06ee",
   "metadata": {
    "colab": {
     "base_uri": "https://localhost:8080/"
    },
    "id": "uE5ToBpwFHSl",
    "outputId": "4d775bdb-82b9-437b-dfbf-4ec1093a2f03"
   },
   "outputs": [],
   "source": [
    "df.info()"
   ]
  },
  {
   "cell_type": "code",
   "execution_count": null,
   "id": "06caf280",
   "metadata": {
    "colab": {
     "base_uri": "https://localhost:8080/"
    },
    "id": "EB7j-ILDn1tl",
    "outputId": "f6303845-f75e-490c-db65-1ae329b80002"
   },
   "outputs": [],
   "source": [
    "df['Android Ver'].unique()"
   ]
  },
  {
   "cell_type": "code",
   "execution_count": null,
   "id": "de0cfe9d",
   "metadata": {
    "id": "4dKeoM5hoM-z"
   },
   "outputs": [],
   "source": [
    "def correction(y):\n",
    "  try:\n",
    "    if y == 'Varies with device':\n",
    "      return np.nan\n",
    "    elif y == '4.4W and up':\n",
    "      return y.replace('W','')\n",
    "    else:\n",
    "      return y\n",
    "  except:\n",
    "      return y"
   ]
  },
  {
   "cell_type": "code",
   "execution_count": null,
   "id": "9d7b5242",
   "metadata": {
    "id": "SpBN9v6mcno8"
   },
   "outputs": [],
   "source": [
    "df['Android Ver'] = df['Android Ver'].apply(correction)"
   ]
  },
  {
   "cell_type": "code",
   "execution_count": null,
   "id": "cb05e575",
   "metadata": {
    "colab": {
     "base_uri": "https://localhost:8080/"
    },
    "id": "P4tewKFjcn3L",
    "outputId": "bde23983-e342-4d72-b999-8f8b9bd39027"
   },
   "outputs": [],
   "source": [
    "df['Android Ver'].unique()"
   ]
  },
  {
   "cell_type": "code",
   "execution_count": null,
   "id": "5ebd3da8",
   "metadata": {
    "colab": {
     "base_uri": "https://localhost:8080/",
     "height": 394
    },
    "id": "J2GrP4czcn_T",
    "outputId": "2d046fb3-7edc-402f-dfbc-f6bd7edf832b"
   },
   "outputs": [],
   "source": [
    "cp=df.sort_values(['Rating'],ascending=False)\n",
    "Highest_Rating_App= cp.loc[:,['App','Category','Rating']]\n",
    "Highest_Rating_App.head(11)"
   ]
  },
  {
   "cell_type": "code",
   "execution_count": null,
   "id": "72a83186",
   "metadata": {
    "colab": {
     "base_uri": "https://localhost:8080/",
     "height": 613
    },
    "id": "8nXFoOUrKuNA",
    "outputId": "776cc67d-dfb7-4aa7-de54-0b0b52b0d57f"
   },
   "outputs": [],
   "source": [
    "sns.set_style('darkgrid')\n",
    "plt.figure(figsize=(15, 8))\n",
    "sns.countplot(x='Category', data=df)\n",
    "plt.title('Number of Apps Per Category')\n",
    "plt.xticks(rotation=80)\n",
    "plt.ylabel('Number of Apps')\n",
    "plt.show()"
   ]
  },
  {
   "cell_type": "code",
   "execution_count": null,
   "id": "fd7fd9ac",
   "metadata": {
    "colab": {
     "base_uri": "https://localhost:8080/",
     "height": 394
    },
    "id": "X-TzWGevOojo",
    "outputId": "a71b8726-3693-4160-acbf-f72fbf4f980d"
   },
   "outputs": [],
   "source": [
    "bm = df.sort_values('Installs',ascending=False)\n",
    "More_downloads_App= bm.loc[:,['App','Installs']]\n",
    "More_downloads_App.head(11)"
   ]
  },
  {
   "cell_type": "code",
   "execution_count": 7,
   "id": "65fccf63",
   "metadata": {
    "colab": {
     "base_uri": "https://localhost:8080/",
     "height": 394
    },
    "id": "NTwcZnfqPy7f",
    "outputId": "46c02033-3f3c-48ec-9dd3-478ad709ec88"
   },
   "outputs": [
    {
     "ename": "NameError",
     "evalue": "name 'df' is not defined",
     "output_type": "error",
     "traceback": [
      "\u001b[1;31m---------------------------------------------------------------------------\u001b[0m",
      "\u001b[1;31mNameError\u001b[0m                                 Traceback (most recent call last)",
      "Cell \u001b[1;32mIn[7], line 1\u001b[0m\n\u001b[1;32m----> 1\u001b[0m ab \u001b[38;5;241m=\u001b[39m \u001b[43mdf\u001b[49m[df[\u001b[38;5;124m'\u001b[39m\u001b[38;5;124mCategory\u001b[39m\u001b[38;5;124m'\u001b[39m] \u001b[38;5;241m==\u001b[39m \u001b[38;5;124m'\u001b[39m\u001b[38;5;124mFamily\u001b[39m\u001b[38;5;124m'\u001b[39m]\n\u001b[0;32m      2\u001b[0m bv \u001b[38;5;241m=\u001b[39m ab\u001b[38;5;241m.\u001b[39msort_values(by\u001b[38;5;241m=\u001b[39m[\u001b[38;5;124m'\u001b[39m\u001b[38;5;124mRating\u001b[39m\u001b[38;5;124m'\u001b[39m], ascending\u001b[38;5;241m=\u001b[39m\u001b[38;5;28;01mTrue\u001b[39;00m)\n\u001b[0;32m      4\u001b[0m Family_lowest_rating\u001b[38;5;241m=\u001b[39m bv\u001b[38;5;241m.\u001b[39mloc[:,[\u001b[38;5;124m'\u001b[39m\u001b[38;5;124mCategory\u001b[39m\u001b[38;5;124m'\u001b[39m,\u001b[38;5;124m'\u001b[39m\u001b[38;5;124mRating\u001b[39m\u001b[38;5;124m'\u001b[39m]]\n",
      "\u001b[1;31mNameError\u001b[0m: name 'df' is not defined"
     ]
    }
   ],
   "source": [
    "ab = df[df['Category'] == 'Family']\n",
    "bv = ab.sort_values(by=['Rating'], ascending=True)\n",
    "\n",
    "Family_lowest_rating= bv.loc[:,['Category','Rating']]\n",
    "Family_lowest_rating.head(11)\n"
   ]
  },
  {
   "cell_type": "code",
   "execution_count": null,
   "id": "c9d1ea84",
   "metadata": {
    "colab": {
     "base_uri": "https://localhost:8080/",
     "height": 394
    },
    "id": "M32rsn2bQAY-",
    "outputId": "0c92212a-cd1a-4a6a-8dc6-4d551c6084b1"
   },
   "outputs": [],
   "source": [
    "hi = df[df['Category'] == 'Family']\n",
    "hig = hi.sort_values(by=['Rating'], ascending=False)\n",
    "\n",
    "Family_highest_rating = hig.loc[:,['Category','Rating']]\n",
    "Family_highest_rating.head(11)"
   ]
  },
  {
   "cell_type": "code",
   "execution_count": null,
   "id": "d5980d16",
   "metadata": {
    "colab": {
     "base_uri": "https://localhost:8080/"
    },
    "id": "VHB0Ay0eQ_4f",
    "outputId": "8afd4cc3-d508-4a8f-f3e5-091af4dccf36"
   },
   "outputs": [],
   "source": [
    "plt.figure(figsize=(10, 5))\n",
    "sns.countplot(df['Type'])\n",
    "plt.title('Type Distribution')\n",
    "plt.ylabel('Number of Apps')\n",
    "plt.show()"
   ]
  },
  {
   "cell_type": "code",
   "execution_count": null,
   "id": "1d489ff9",
   "metadata": {
    "colab": {
     "base_uri": "https://localhost:8080/"
    },
    "id": "czy2_kvnRLhn",
    "outputId": "7de15e79-abbc-4f48-e89c-76fac2a6eaaa"
   },
   "outputs": [],
   "source": [
    "fig, ax = plt.subplots()\n",
    "fig.set_size_inches(15, 8)\n",
    "\n",
    "popular_app_cats = df[df.Category.isin(['Game', 'Family', 'Photography',\n",
    "                                            'Medical', 'Tools', 'Finance',\n",
    "                                            'Lifestyle','Business'])]\n",
    "\n",
    "ax = sns.stripplot(x = popular_app_cats[\"Price\"], y = popular_app_cats[\"Category\"], jitter=True, linewidth=1)\n",
    "ax.set_title('App pricing trend across categories')"
   ]
  },
  {
   "cell_type": "code",
   "execution_count": null,
   "id": "d6a3434e",
   "metadata": {
    "colab": {
     "base_uri": "https://localhost:8080/",
     "height": 329
    },
    "id": "2w45EM5wRtBP",
    "outputId": "fdfdb4a7-5dd8-43a2-9aa8-d1b7ed9314ca"
   },
   "outputs": [],
   "source": [
    "merged_df = pd.merge(df, df2, on = \"App\")\n",
    "\n",
    "\n",
    "\n",
    "merged_df.head(3)"
   ]
  },
  {
   "cell_type": "code",
   "execution_count": null,
   "id": "2804116d",
   "metadata": {
    "colab": {
     "base_uri": "https://localhost:8080/",
     "height": 530
    },
    "id": "xex0rfCJR8aP",
    "outputId": "8e99f2f8-30a1-445a-bb3d-bc51fae66f10"
   },
   "outputs": [],
   "source": [
    "sns.set_style('ticks')\n",
    "fig, ax = plt.subplots()\n",
    "fig.set_size_inches(11, 8)\n",
    "\n",
    "\n",
    "ax = sns.boxplot(x = 'Type', y = 'Sentiment_Polarity', data = merged_df)\n",
    "ax.set_title('Sentiment Polarity Distribution')\n"
   ]
  },
  {
   "cell_type": "code",
   "execution_count": null,
   "id": "8cf589b9",
   "metadata": {
    "colab": {
     "base_uri": "https://localhost:8080/"
    },
    "id": "z8PqDNTySCJX",
    "outputId": "27f81eac-b154-4f6e-c2ce-b20b0eb62bd0"
   },
   "outputs": [],
   "source": [
    "apps_under_100 = popular_app_cats[popular_app_cats[\"Price\"]<100]\n",
    "\n",
    "fig, ax = plt.subplots()\n",
    "fig.set_size_inches(15, 8)\n",
    "\n",
    "ax = sns.stripplot(x = \"Price\", y =\"Category\", data = apps_under_100, jitter = True, linewidth = 1)\n",
    "ax.set_title('App pricing trend across categories after filtering for junk apps')\n"
   ]
  },
  {
   "cell_type": "code",
   "execution_count": null,
   "id": "ee229805",
   "metadata": {
    "id": "-mTW7E_8SNwY"
   },
   "outputs": [],
   "source": []
  }
 ],
 "metadata": {},
 "nbformat": 4,
 "nbformat_minor": 5
}
